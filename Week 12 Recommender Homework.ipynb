{
 "cells": [
  {
   "cell_type": "markdown",
   "metadata": {},
   "source": [
    "CSC570R Spring 2017\n",
    "\n",
    "Week 12 Homework - Recommenders\n",
    "\n",
    "Melanie Klein"
   ]
  },
  {
   "cell_type": "code",
   "execution_count": 1,
   "metadata": {
    "collapsed": false
   },
   "outputs": [],
   "source": [
    "import pandas as pd\n",
    "import numpy as np"
   ]
  },
  {
   "cell_type": "code",
   "execution_count": 2,
   "metadata": {
    "collapsed": false
   },
   "outputs": [],
   "source": [
    "#download the class movie reviews from here:\n",
    "#https://docs.google.com/spreadsheets/d/17rCJzmWxqvAu9rkpkgt4ToccIlY4A1Ffuu1W9X3B8Ag/\n",
    "#then read that in as a pandas dataframe"
   ]
  },
  {
   "cell_type": "code",
   "execution_count": 3,
   "metadata": {
    "collapsed": false
   },
   "outputs": [],
   "source": [
    "M = pd.read_csv('data/MovieReviews.csv', index_col='Name')"
   ]
  },
  {
   "cell_type": "code",
   "execution_count": 222,
   "metadata": {
    "collapsed": false
   },
   "outputs": [],
   "source": [
    "def pearson(s1, s2):\n",
    "    \"\"\"Take two pd.Series objects and return a pearson correlation.\"\"\"\n",
    "    s1_c = s1 - s1.mean()\n",
    "    s2_c = s2 - s2.mean()\n",
    "    return np.sum(s1_c * s2_c) / np.sqrt(np.sum(s1_c ** 2) * np.sum(s2_c ** 2))"
   ]
  },
  {
   "cell_type": "code",
   "execution_count": 223,
   "metadata": {
    "collapsed": false
   },
   "outputs": [],
   "source": [
    "def get_recs(movie_name, M, num):\n",
    "\n",
    "    import numpy as np\n",
    "    reviews = []\n",
    "    for title in M.columns:\n",
    "        if title == movie_name:\n",
    "            continue\n",
    "        cor = pearson(M[movie_name], M[title])\n",
    "        if np.isnan(cor):\n",
    "            continue\n",
    "        else:\n",
    "            reviews.append((title, cor))\n",
    "    \n",
    "    reviews.sort(key=lambda tup: tup[1], reverse=True)\n",
    "    return reviews[:num]\n",
    "\n",
    "    "
   ]
  },
  {
   "cell_type": "markdown",
   "metadata": {},
   "source": [
    "###Question 1:  What movie is most Similar to 'The fault in our stars' (60 pts)\n"
   ]
  },
  {
   "cell_type": "code",
   "execution_count": 224,
   "metadata": {
    "collapsed": false
   },
   "outputs": [
    {
     "data": {
      "text/plain": [
       "(124, 16)"
      ]
     },
     "execution_count": 224,
     "metadata": {},
     "output_type": "execute_result"
    }
   ],
   "source": [
    "M.shape"
   ]
  },
  {
   "cell_type": "code",
   "execution_count": 225,
   "metadata": {
    "collapsed": false
   },
   "outputs": [],
   "source": [
    "fault_recs = get_recs('The Fault in Our Stars', M, 1)"
   ]
  },
  {
   "cell_type": "code",
   "execution_count": 226,
   "metadata": {
    "collapsed": false
   },
   "outputs": [
    {
     "data": {
      "text/plain": [
       "[('Malificent', 0.20279670863265634)]"
      ]
     },
     "execution_count": 226,
     "metadata": {},
     "output_type": "execute_result"
    }
   ],
   "source": [
    "fault_recs[:1]"
   ]
  },
  {
   "cell_type": "markdown",
   "metadata": {},
   "source": [
    "###Question 2:  Which movie(s) would you most like to see, based on your classmates experience? (40 pts)"
   ]
  },
  {
   "cell_type": "code",
   "execution_count": 227,
   "metadata": {
    "collapsed": false
   },
   "outputs": [],
   "source": [
    "#HINTS...\n",
    "\n",
    "#the movies I've seen\n",
    "my_ratings = M.ix['Melanie Klein'].dropna()\n",
    "#the movie I've rated the highest\n",
    "my_ratings.sort_values(ascending=False, inplace=True)\n",
    "#the name of the movie I've rated the highest\n",
    "fav_movie = my_ratings.index[0]"
   ]
  },
  {
   "cell_type": "code",
   "execution_count": 228,
   "metadata": {
    "collapsed": false
   },
   "outputs": [
    {
     "data": {
      "text/plain": [
       "'Big Hero 6'"
      ]
     },
     "execution_count": 228,
     "metadata": {},
     "output_type": "execute_result"
    }
   ],
   "source": [
    "fav_movie"
   ]
  },
  {
   "cell_type": "code",
   "execution_count": 229,
   "metadata": {
    "collapsed": false
   },
   "outputs": [
    {
     "data": {
      "text/plain": [
       "[('How to Train your Dragon 2', 0.14750447717903284),\n",
       " ('The Hunger Games: Mockingjay - Part 1', 0.12807012445051055)]"
      ]
     },
     "execution_count": 229,
     "metadata": {},
     "output_type": "execute_result"
    }
   ],
   "source": [
    "#Get the two most similar movies to my favorite movie (based on classmates' ratings)\n",
    "my_recs = get_recs(fav_movie, M, 2)\n",
    "my_recs[:2]"
   ]
  },
  {
   "cell_type": "markdown",
   "metadata": {},
   "source": [
    "###Question 3: Bonus Question...  For all the movies you haven't seen, can you predict how you'd rate them using your the class reviews? (10 pts)"
   ]
  },
  {
   "cell_type": "code",
   "execution_count": 256,
   "metadata": {
    "collapsed": false
   },
   "outputs": [],
   "source": [
    "def get_item_matrix(M):\n",
    "    \n",
    "    #initialize the matrix (it's actually a dataframe so it can have column/row headers)\n",
    "    Items = pd.DataFrame.from_items([(y, [np.nan for x in M.columns]) for y in M.columns], orient='index', columns=M.columns)\n",
    "    for title1 in M.columns:\n",
    "        for title2 in M.columns:\n",
    "            i = 0\n",
    "            for index, row in M.iterrows():\n",
    "                if np.isnan(row[title1]):\n",
    "                    continue\n",
    "                else:\n",
    "                    if np.isnan(row[title2]):\n",
    "                        continue\n",
    "                    else:\n",
    "                        i = i + 1\n",
    "                Items[title1][title2] = i\n",
    "    \n",
    "    return Items"
   ]
  },
  {
   "cell_type": "code",
   "execution_count": 257,
   "metadata": {
    "collapsed": false
   },
   "outputs": [],
   "source": [
    "Items_Matrix = get_item_matrix(M)\n",
    "my_ratings_vector = M.ix['Melanie Klein']"
   ]
  },
  {
   "cell_type": "code",
   "execution_count": 258,
   "metadata": {
    "collapsed": false
   },
   "outputs": [
    {
     "data": {
      "text/html": [
       "<div>\n",
       "<table border=\"1\" class=\"dataframe\">\n",
       "  <thead>\n",
       "    <tr style=\"text-align: right;\">\n",
       "      <th></th>\n",
       "      <th>American Sniper</th>\n",
       "      <th>The Hunger Games: Mockingjay - Part 1</th>\n",
       "      <th>Guardians of the Galaxy</th>\n",
       "      <th>The Lego Movie</th>\n",
       "      <th>The Hobbit</th>\n",
       "      <th>Transformers</th>\n",
       "      <th>Malificent</th>\n",
       "      <th>Big Hero 6</th>\n",
       "      <th>Godzilla</th>\n",
       "      <th>Interstellar</th>\n",
       "      <th>How to Train your Dragon 2</th>\n",
       "      <th>Gone Girl</th>\n",
       "      <th>Divergent</th>\n",
       "      <th>The Fault in Our Stars</th>\n",
       "      <th>Unbroken</th>\n",
       "      <th>300: Rise of an Empire</th>\n",
       "    </tr>\n",
       "  </thead>\n",
       "  <tbody>\n",
       "    <tr>\n",
       "      <th>American Sniper</th>\n",
       "      <td>72.0</td>\n",
       "      <td>49.0</td>\n",
       "      <td>57.0</td>\n",
       "      <td>40.0</td>\n",
       "      <td>58.0</td>\n",
       "      <td>56.0</td>\n",
       "      <td>37.0</td>\n",
       "      <td>34.0</td>\n",
       "      <td>52.0</td>\n",
       "      <td>55.0</td>\n",
       "      <td>49.0</td>\n",
       "      <td>46.0</td>\n",
       "      <td>42.0</td>\n",
       "      <td>28.0</td>\n",
       "      <td>24.0</td>\n",
       "      <td>55.0</td>\n",
       "    </tr>\n",
       "    <tr>\n",
       "      <th>The Hunger Games: Mockingjay - Part 1</th>\n",
       "      <td>49.0</td>\n",
       "      <td>81.0</td>\n",
       "      <td>66.0</td>\n",
       "      <td>49.0</td>\n",
       "      <td>70.0</td>\n",
       "      <td>70.0</td>\n",
       "      <td>46.0</td>\n",
       "      <td>39.0</td>\n",
       "      <td>58.0</td>\n",
       "      <td>60.0</td>\n",
       "      <td>56.0</td>\n",
       "      <td>42.0</td>\n",
       "      <td>50.0</td>\n",
       "      <td>33.0</td>\n",
       "      <td>24.0</td>\n",
       "      <td>59.0</td>\n",
       "    </tr>\n",
       "    <tr>\n",
       "      <th>Guardians of the Galaxy</th>\n",
       "      <td>57.0</td>\n",
       "      <td>66.0</td>\n",
       "      <td>93.0</td>\n",
       "      <td>53.0</td>\n",
       "      <td>78.0</td>\n",
       "      <td>73.0</td>\n",
       "      <td>53.0</td>\n",
       "      <td>45.0</td>\n",
       "      <td>64.0</td>\n",
       "      <td>69.0</td>\n",
       "      <td>60.0</td>\n",
       "      <td>51.0</td>\n",
       "      <td>53.0</td>\n",
       "      <td>36.0</td>\n",
       "      <td>27.0</td>\n",
       "      <td>65.0</td>\n",
       "    </tr>\n",
       "    <tr>\n",
       "      <th>The Lego Movie</th>\n",
       "      <td>40.0</td>\n",
       "      <td>49.0</td>\n",
       "      <td>53.0</td>\n",
       "      <td>64.0</td>\n",
       "      <td>53.0</td>\n",
       "      <td>56.0</td>\n",
       "      <td>37.0</td>\n",
       "      <td>34.0</td>\n",
       "      <td>49.0</td>\n",
       "      <td>46.0</td>\n",
       "      <td>49.0</td>\n",
       "      <td>39.0</td>\n",
       "      <td>36.0</td>\n",
       "      <td>29.0</td>\n",
       "      <td>23.0</td>\n",
       "      <td>46.0</td>\n",
       "    </tr>\n",
       "    <tr>\n",
       "      <th>The Hobbit</th>\n",
       "      <td>58.0</td>\n",
       "      <td>70.0</td>\n",
       "      <td>78.0</td>\n",
       "      <td>53.0</td>\n",
       "      <td>98.0</td>\n",
       "      <td>83.0</td>\n",
       "      <td>53.0</td>\n",
       "      <td>50.0</td>\n",
       "      <td>69.0</td>\n",
       "      <td>71.0</td>\n",
       "      <td>68.0</td>\n",
       "      <td>53.0</td>\n",
       "      <td>56.0</td>\n",
       "      <td>37.0</td>\n",
       "      <td>29.0</td>\n",
       "      <td>69.0</td>\n",
       "    </tr>\n",
       "    <tr>\n",
       "      <th>Transformers</th>\n",
       "      <td>56.0</td>\n",
       "      <td>70.0</td>\n",
       "      <td>73.0</td>\n",
       "      <td>56.0</td>\n",
       "      <td>83.0</td>\n",
       "      <td>100.0</td>\n",
       "      <td>50.0</td>\n",
       "      <td>44.0</td>\n",
       "      <td>74.0</td>\n",
       "      <td>70.0</td>\n",
       "      <td>70.0</td>\n",
       "      <td>54.0</td>\n",
       "      <td>57.0</td>\n",
       "      <td>37.0</td>\n",
       "      <td>26.0</td>\n",
       "      <td>74.0</td>\n",
       "    </tr>\n",
       "    <tr>\n",
       "      <th>Malificent</th>\n",
       "      <td>37.0</td>\n",
       "      <td>46.0</td>\n",
       "      <td>53.0</td>\n",
       "      <td>37.0</td>\n",
       "      <td>53.0</td>\n",
       "      <td>50.0</td>\n",
       "      <td>61.0</td>\n",
       "      <td>35.0</td>\n",
       "      <td>49.0</td>\n",
       "      <td>50.0</td>\n",
       "      <td>48.0</td>\n",
       "      <td>41.0</td>\n",
       "      <td>44.0</td>\n",
       "      <td>35.0</td>\n",
       "      <td>25.0</td>\n",
       "      <td>49.0</td>\n",
       "    </tr>\n",
       "    <tr>\n",
       "      <th>Big Hero 6</th>\n",
       "      <td>34.0</td>\n",
       "      <td>39.0</td>\n",
       "      <td>45.0</td>\n",
       "      <td>34.0</td>\n",
       "      <td>50.0</td>\n",
       "      <td>44.0</td>\n",
       "      <td>35.0</td>\n",
       "      <td>54.0</td>\n",
       "      <td>42.0</td>\n",
       "      <td>43.0</td>\n",
       "      <td>46.0</td>\n",
       "      <td>33.0</td>\n",
       "      <td>33.0</td>\n",
       "      <td>26.0</td>\n",
       "      <td>25.0</td>\n",
       "      <td>39.0</td>\n",
       "    </tr>\n",
       "    <tr>\n",
       "      <th>Godzilla</th>\n",
       "      <td>52.0</td>\n",
       "      <td>58.0</td>\n",
       "      <td>64.0</td>\n",
       "      <td>49.0</td>\n",
       "      <td>69.0</td>\n",
       "      <td>74.0</td>\n",
       "      <td>49.0</td>\n",
       "      <td>42.0</td>\n",
       "      <td>83.0</td>\n",
       "      <td>65.0</td>\n",
       "      <td>64.0</td>\n",
       "      <td>49.0</td>\n",
       "      <td>50.0</td>\n",
       "      <td>38.0</td>\n",
       "      <td>28.0</td>\n",
       "      <td>67.0</td>\n",
       "    </tr>\n",
       "    <tr>\n",
       "      <th>Interstellar</th>\n",
       "      <td>55.0</td>\n",
       "      <td>60.0</td>\n",
       "      <td>69.0</td>\n",
       "      <td>46.0</td>\n",
       "      <td>71.0</td>\n",
       "      <td>70.0</td>\n",
       "      <td>50.0</td>\n",
       "      <td>43.0</td>\n",
       "      <td>65.0</td>\n",
       "      <td>83.0</td>\n",
       "      <td>61.0</td>\n",
       "      <td>52.0</td>\n",
       "      <td>46.0</td>\n",
       "      <td>37.0</td>\n",
       "      <td>27.0</td>\n",
       "      <td>67.0</td>\n",
       "    </tr>\n",
       "    <tr>\n",
       "      <th>How to Train your Dragon 2</th>\n",
       "      <td>49.0</td>\n",
       "      <td>56.0</td>\n",
       "      <td>60.0</td>\n",
       "      <td>49.0</td>\n",
       "      <td>68.0</td>\n",
       "      <td>70.0</td>\n",
       "      <td>48.0</td>\n",
       "      <td>46.0</td>\n",
       "      <td>64.0</td>\n",
       "      <td>61.0</td>\n",
       "      <td>80.0</td>\n",
       "      <td>44.0</td>\n",
       "      <td>47.0</td>\n",
       "      <td>37.0</td>\n",
       "      <td>26.0</td>\n",
       "      <td>62.0</td>\n",
       "    </tr>\n",
       "    <tr>\n",
       "      <th>Gone Girl</th>\n",
       "      <td>46.0</td>\n",
       "      <td>42.0</td>\n",
       "      <td>51.0</td>\n",
       "      <td>39.0</td>\n",
       "      <td>53.0</td>\n",
       "      <td>54.0</td>\n",
       "      <td>41.0</td>\n",
       "      <td>33.0</td>\n",
       "      <td>49.0</td>\n",
       "      <td>52.0</td>\n",
       "      <td>44.0</td>\n",
       "      <td>64.0</td>\n",
       "      <td>39.0</td>\n",
       "      <td>33.0</td>\n",
       "      <td>21.0</td>\n",
       "      <td>48.0</td>\n",
       "    </tr>\n",
       "    <tr>\n",
       "      <th>Divergent</th>\n",
       "      <td>42.0</td>\n",
       "      <td>50.0</td>\n",
       "      <td>53.0</td>\n",
       "      <td>36.0</td>\n",
       "      <td>56.0</td>\n",
       "      <td>57.0</td>\n",
       "      <td>44.0</td>\n",
       "      <td>33.0</td>\n",
       "      <td>50.0</td>\n",
       "      <td>46.0</td>\n",
       "      <td>47.0</td>\n",
       "      <td>39.0</td>\n",
       "      <td>65.0</td>\n",
       "      <td>33.0</td>\n",
       "      <td>24.0</td>\n",
       "      <td>49.0</td>\n",
       "    </tr>\n",
       "    <tr>\n",
       "      <th>The Fault in Our Stars</th>\n",
       "      <td>28.0</td>\n",
       "      <td>33.0</td>\n",
       "      <td>36.0</td>\n",
       "      <td>29.0</td>\n",
       "      <td>37.0</td>\n",
       "      <td>37.0</td>\n",
       "      <td>35.0</td>\n",
       "      <td>26.0</td>\n",
       "      <td>38.0</td>\n",
       "      <td>37.0</td>\n",
       "      <td>37.0</td>\n",
       "      <td>33.0</td>\n",
       "      <td>33.0</td>\n",
       "      <td>43.0</td>\n",
       "      <td>20.0</td>\n",
       "      <td>37.0</td>\n",
       "    </tr>\n",
       "    <tr>\n",
       "      <th>Unbroken</th>\n",
       "      <td>24.0</td>\n",
       "      <td>24.0</td>\n",
       "      <td>27.0</td>\n",
       "      <td>23.0</td>\n",
       "      <td>29.0</td>\n",
       "      <td>26.0</td>\n",
       "      <td>25.0</td>\n",
       "      <td>25.0</td>\n",
       "      <td>28.0</td>\n",
       "      <td>27.0</td>\n",
       "      <td>26.0</td>\n",
       "      <td>21.0</td>\n",
       "      <td>24.0</td>\n",
       "      <td>20.0</td>\n",
       "      <td>31.0</td>\n",
       "      <td>26.0</td>\n",
       "    </tr>\n",
       "    <tr>\n",
       "      <th>300: Rise of an Empire</th>\n",
       "      <td>55.0</td>\n",
       "      <td>59.0</td>\n",
       "      <td>65.0</td>\n",
       "      <td>46.0</td>\n",
       "      <td>69.0</td>\n",
       "      <td>74.0</td>\n",
       "      <td>49.0</td>\n",
       "      <td>39.0</td>\n",
       "      <td>67.0</td>\n",
       "      <td>67.0</td>\n",
       "      <td>62.0</td>\n",
       "      <td>48.0</td>\n",
       "      <td>49.0</td>\n",
       "      <td>37.0</td>\n",
       "      <td>26.0</td>\n",
       "      <td>86.0</td>\n",
       "    </tr>\n",
       "  </tbody>\n",
       "</table>\n",
       "</div>"
      ],
      "text/plain": [
       "                                       American Sniper  \\\n",
       "American Sniper                                   72.0   \n",
       "The Hunger Games: Mockingjay - Part 1             49.0   \n",
       "Guardians of the Galaxy                           57.0   \n",
       "The Lego Movie                                    40.0   \n",
       "The Hobbit                                        58.0   \n",
       "Transformers                                      56.0   \n",
       "Malificent                                        37.0   \n",
       "Big Hero 6                                        34.0   \n",
       "Godzilla                                          52.0   \n",
       "Interstellar                                      55.0   \n",
       "How to Train your Dragon 2                        49.0   \n",
       "Gone Girl                                         46.0   \n",
       "Divergent                                         42.0   \n",
       "The Fault in Our Stars                            28.0   \n",
       "Unbroken                                          24.0   \n",
       "300: Rise of an Empire                            55.0   \n",
       "\n",
       "                                       The Hunger Games: Mockingjay - Part 1  \\\n",
       "American Sniper                                                         49.0   \n",
       "The Hunger Games: Mockingjay - Part 1                                   81.0   \n",
       "Guardians of the Galaxy                                                 66.0   \n",
       "The Lego Movie                                                          49.0   \n",
       "The Hobbit                                                              70.0   \n",
       "Transformers                                                            70.0   \n",
       "Malificent                                                              46.0   \n",
       "Big Hero 6                                                              39.0   \n",
       "Godzilla                                                                58.0   \n",
       "Interstellar                                                            60.0   \n",
       "How to Train your Dragon 2                                              56.0   \n",
       "Gone Girl                                                               42.0   \n",
       "Divergent                                                               50.0   \n",
       "The Fault in Our Stars                                                  33.0   \n",
       "Unbroken                                                                24.0   \n",
       "300: Rise of an Empire                                                  59.0   \n",
       "\n",
       "                                       Guardians of the Galaxy  \\\n",
       "American Sniper                                           57.0   \n",
       "The Hunger Games: Mockingjay - Part 1                     66.0   \n",
       "Guardians of the Galaxy                                   93.0   \n",
       "The Lego Movie                                            53.0   \n",
       "The Hobbit                                                78.0   \n",
       "Transformers                                              73.0   \n",
       "Malificent                                                53.0   \n",
       "Big Hero 6                                                45.0   \n",
       "Godzilla                                                  64.0   \n",
       "Interstellar                                              69.0   \n",
       "How to Train your Dragon 2                                60.0   \n",
       "Gone Girl                                                 51.0   \n",
       "Divergent                                                 53.0   \n",
       "The Fault in Our Stars                                    36.0   \n",
       "Unbroken                                                  27.0   \n",
       "300: Rise of an Empire                                    65.0   \n",
       "\n",
       "                                       The Lego Movie  The Hobbit  \\\n",
       "American Sniper                                  40.0        58.0   \n",
       "The Hunger Games: Mockingjay - Part 1            49.0        70.0   \n",
       "Guardians of the Galaxy                          53.0        78.0   \n",
       "The Lego Movie                                   64.0        53.0   \n",
       "The Hobbit                                       53.0        98.0   \n",
       "Transformers                                     56.0        83.0   \n",
       "Malificent                                       37.0        53.0   \n",
       "Big Hero 6                                       34.0        50.0   \n",
       "Godzilla                                         49.0        69.0   \n",
       "Interstellar                                     46.0        71.0   \n",
       "How to Train your Dragon 2                       49.0        68.0   \n",
       "Gone Girl                                        39.0        53.0   \n",
       "Divergent                                        36.0        56.0   \n",
       "The Fault in Our Stars                           29.0        37.0   \n",
       "Unbroken                                         23.0        29.0   \n",
       "300: Rise of an Empire                           46.0        69.0   \n",
       "\n",
       "                                       Transformers  Malificent  Big Hero 6  \\\n",
       "American Sniper                                56.0        37.0        34.0   \n",
       "The Hunger Games: Mockingjay - Part 1          70.0        46.0        39.0   \n",
       "Guardians of the Galaxy                        73.0        53.0        45.0   \n",
       "The Lego Movie                                 56.0        37.0        34.0   \n",
       "The Hobbit                                     83.0        53.0        50.0   \n",
       "Transformers                                  100.0        50.0        44.0   \n",
       "Malificent                                     50.0        61.0        35.0   \n",
       "Big Hero 6                                     44.0        35.0        54.0   \n",
       "Godzilla                                       74.0        49.0        42.0   \n",
       "Interstellar                                   70.0        50.0        43.0   \n",
       "How to Train your Dragon 2                     70.0        48.0        46.0   \n",
       "Gone Girl                                      54.0        41.0        33.0   \n",
       "Divergent                                      57.0        44.0        33.0   \n",
       "The Fault in Our Stars                         37.0        35.0        26.0   \n",
       "Unbroken                                       26.0        25.0        25.0   \n",
       "300: Rise of an Empire                         74.0        49.0        39.0   \n",
       "\n",
       "                                       Godzilla  Interstellar  \\\n",
       "American Sniper                            52.0          55.0   \n",
       "The Hunger Games: Mockingjay - Part 1      58.0          60.0   \n",
       "Guardians of the Galaxy                    64.0          69.0   \n",
       "The Lego Movie                             49.0          46.0   \n",
       "The Hobbit                                 69.0          71.0   \n",
       "Transformers                               74.0          70.0   \n",
       "Malificent                                 49.0          50.0   \n",
       "Big Hero 6                                 42.0          43.0   \n",
       "Godzilla                                   83.0          65.0   \n",
       "Interstellar                               65.0          83.0   \n",
       "How to Train your Dragon 2                 64.0          61.0   \n",
       "Gone Girl                                  49.0          52.0   \n",
       "Divergent                                  50.0          46.0   \n",
       "The Fault in Our Stars                     38.0          37.0   \n",
       "Unbroken                                   28.0          27.0   \n",
       "300: Rise of an Empire                     67.0          67.0   \n",
       "\n",
       "                                       How to Train your Dragon 2  Gone Girl  \\\n",
       "American Sniper                                              49.0       46.0   \n",
       "The Hunger Games: Mockingjay - Part 1                        56.0       42.0   \n",
       "Guardians of the Galaxy                                      60.0       51.0   \n",
       "The Lego Movie                                               49.0       39.0   \n",
       "The Hobbit                                                   68.0       53.0   \n",
       "Transformers                                                 70.0       54.0   \n",
       "Malificent                                                   48.0       41.0   \n",
       "Big Hero 6                                                   46.0       33.0   \n",
       "Godzilla                                                     64.0       49.0   \n",
       "Interstellar                                                 61.0       52.0   \n",
       "How to Train your Dragon 2                                   80.0       44.0   \n",
       "Gone Girl                                                    44.0       64.0   \n",
       "Divergent                                                    47.0       39.0   \n",
       "The Fault in Our Stars                                       37.0       33.0   \n",
       "Unbroken                                                     26.0       21.0   \n",
       "300: Rise of an Empire                                       62.0       48.0   \n",
       "\n",
       "                                       Divergent  The Fault in Our Stars  \\\n",
       "American Sniper                             42.0                    28.0   \n",
       "The Hunger Games: Mockingjay - Part 1       50.0                    33.0   \n",
       "Guardians of the Galaxy                     53.0                    36.0   \n",
       "The Lego Movie                              36.0                    29.0   \n",
       "The Hobbit                                  56.0                    37.0   \n",
       "Transformers                                57.0                    37.0   \n",
       "Malificent                                  44.0                    35.0   \n",
       "Big Hero 6                                  33.0                    26.0   \n",
       "Godzilla                                    50.0                    38.0   \n",
       "Interstellar                                46.0                    37.0   \n",
       "How to Train your Dragon 2                  47.0                    37.0   \n",
       "Gone Girl                                   39.0                    33.0   \n",
       "Divergent                                   65.0                    33.0   \n",
       "The Fault in Our Stars                      33.0                    43.0   \n",
       "Unbroken                                    24.0                    20.0   \n",
       "300: Rise of an Empire                      49.0                    37.0   \n",
       "\n",
       "                                       Unbroken  300: Rise of an Empire  \n",
       "American Sniper                            24.0                    55.0  \n",
       "The Hunger Games: Mockingjay - Part 1      24.0                    59.0  \n",
       "Guardians of the Galaxy                    27.0                    65.0  \n",
       "The Lego Movie                             23.0                    46.0  \n",
       "The Hobbit                                 29.0                    69.0  \n",
       "Transformers                               26.0                    74.0  \n",
       "Malificent                                 25.0                    49.0  \n",
       "Big Hero 6                                 25.0                    39.0  \n",
       "Godzilla                                   28.0                    67.0  \n",
       "Interstellar                               27.0                    67.0  \n",
       "How to Train your Dragon 2                 26.0                    62.0  \n",
       "Gone Girl                                  21.0                    48.0  \n",
       "Divergent                                  24.0                    49.0  \n",
       "The Fault in Our Stars                     20.0                    37.0  \n",
       "Unbroken                                   31.0                    26.0  \n",
       "300: Rise of an Empire                     26.0                    86.0  "
      ]
     },
     "execution_count": 258,
     "metadata": {},
     "output_type": "execute_result"
    }
   ],
   "source": [
    "Items_Matrix"
   ]
  },
  {
   "cell_type": "code",
   "execution_count": 262,
   "metadata": {
    "collapsed": true
   },
   "outputs": [],
   "source": [
    "my_ratings_vector = my_ratings_vector.fillna(value=0)"
   ]
  },
  {
   "cell_type": "code",
   "execution_count": 263,
   "metadata": {
    "collapsed": false,
    "scrolled": true
   },
   "outputs": [
    {
     "data": {
      "text/plain": [
       "American Sniper                          0.0\n",
       "The Hunger Games: Mockingjay - Part 1    0.0\n",
       "Guardians of the Galaxy                  4.0\n",
       "The Lego Movie                           3.0\n",
       "The Hobbit                               4.0\n",
       "Transformers                             2.0\n",
       "Malificent                               0.0\n",
       "Big Hero 6                               5.0\n",
       "Godzilla                                 0.0\n",
       "Interstellar                             0.0\n",
       "How to Train your Dragon 2               0.0\n",
       "Gone Girl                                0.0\n",
       "Divergent                                0.0\n",
       "The Fault in Our Stars                   0.0\n",
       "Unbroken                                 0.0\n",
       "300: Rise of an Empire                   2.0\n",
       "Name: Melanie Klein, dtype: float64"
      ]
     },
     "execution_count": 263,
     "metadata": {},
     "output_type": "execute_result"
    }
   ],
   "source": [
    "my_ratings_vector"
   ]
  },
  {
   "cell_type": "code",
   "execution_count": 264,
   "metadata": {
    "collapsed": false
   },
   "outputs": [],
   "source": [
    "def predict_ratings(M, v):\n",
    "    predictions = np.copy(v)\n",
    "    for i in range(v.size):\n",
    "        if v[i] == 0:\n",
    "            predictions[i] = (M[v.index[i]].dot(v)) / np.sum(M[v.index[i]])\n",
    "            \n",
    "    return predictions"
   ]
  },
  {
   "cell_type": "code",
   "execution_count": 265,
   "metadata": {
    "collapsed": false
   },
   "outputs": [
    {
     "data": {
      "text/plain": [
       "array([ 1.28912467,  1.342723  ,  4.        ,  3.        ,  4.        ,\n",
       "        2.        ,  1.27349229,  5.        ,  1.29966704,  1.31596452,\n",
       "        1.32987313,  1.27221439,  1.27209945,  1.21892393,  1.28571429,  2.        ])"
      ]
     },
     "execution_count": 265,
     "metadata": {},
     "output_type": "execute_result"
    }
   ],
   "source": [
    "my_predicted_ratings = predict_ratings(Items_Matrix, my_ratings_vector)\n",
    "my_predicted_ratings"
   ]
  }
 ],
 "metadata": {
  "anaconda-cloud": {},
  "kernelspec": {
   "display_name": "Python [default]",
   "language": "python",
   "name": "python3"
  },
  "language_info": {
   "codemirror_mode": {
    "name": "ipython",
    "version": 3
   },
   "file_extension": ".py",
   "mimetype": "text/x-python",
   "name": "python",
   "nbconvert_exporter": "python",
   "pygments_lexer": "ipython3",
   "version": "3.5.2"
  }
 },
 "nbformat": 4,
 "nbformat_minor": 0
}
